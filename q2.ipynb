{
 "cells": [
  {
   "cell_type": "code",
   "execution_count": null,
   "metadata": {},
   "outputs": [
    {
     "ename": "",
     "evalue": "",
     "output_type": "error",
     "traceback": [
      "\u001b[1;31m无法启动 Kernel。 \n",
      "\u001b[1;31mJupyter server crashed. Unable to connect. \n",
      "\u001b[1;31mError code from Jupyter: 1\n",
      "\u001b[1;31mTraceback (most recent call last):\n",
      "\u001b[1;31m  File \"/opt/homebrew/bin/jupyter-notebook\", line 5, in <module>\n",
      "\u001b[1;31m\n",
      "\u001b[1;31m    from notebook.notebookapp import main\n",
      "\u001b[1;31m  File \"/opt/homebrew/lib/python3.8/site-packages/notebook/notebookapp.py\", line 57, in <module>\n",
      "\u001b[1;31m    raise ImportError(_(\"The Jupyter Notebook requires tornado >= 5.0, but you have %s\") % tornado.version)\n",
      "\u001b[1;31mImportError: The Jupyter Notebook requires tornado >= 5.0, but you have 4.5.3. \n",
      "\u001b[1;31m有关更多详细信息，请查看 Jupyter <a href='command:jupyter.viewOutput'>log</a>。"
     ]
    }
   ],
   "source": [
    "#Packages\n",
    "import numpy as np\n",
    "import matplotlib.pyplot as plt"
   ]
  },
  {
   "cell_type": "code",
   "execution_count": null,
   "metadata": {},
   "outputs": [
    {
     "ename": "",
     "evalue": "",
     "output_type": "error",
     "traceback": [
      "\u001b[1;31m无法启动 Kernel。 \n",
      "\u001b[1;31mJupyter server crashed. Unable to connect. \n",
      "\u001b[1;31mError code from Jupyter: 1\n",
      "\u001b[1;31mTraceback (most recent call last):\n",
      "\u001b[1;31m  File \"/opt/homebrew/bin/jupyter-notebook\", line 5, in <module>\n",
      "\u001b[1;31m\n",
      "\u001b[1;31m    from notebook.notebookapp import main\n",
      "\u001b[1;31m  File \"/opt/homebrew/lib/python3.8/site-packages/notebook/notebookapp.py\", line 57, in <module>\n",
      "\u001b[1;31m    raise ImportError(_(\"The Jupyter Notebook requires tornado >= 5.0, but you have %s\") % tornado.version)\n",
      "\u001b[1;31mImportError: The Jupyter Notebook requires tornado >= 5.0, but you have 4.5.3. \n",
      "\u001b[1;31m有关更多详细信息，请查看 Jupyter <a href='command:jupyter.viewOutput'>log</a>。"
     ]
    }
   ],
   "source": [
    "#Objective Function\n",
    "def obj(x):\n",
    "    a=x[0]\n",
    "    b=x[1]\n",
    "    objective_function_value=a**4+(2/3)*a**3+0.5*a**2-2*a**2*b+(4/3)*b**2\n",
    "    return objective_function_value"
   ]
  },
  {
   "cell_type": "code",
   "execution_count": null,
   "metadata": {},
   "outputs": [
    {
     "ename": "",
     "evalue": "",
     "output_type": "error",
     "traceback": [
      "\u001b[1;31m无法启动 Kernel。 \n",
      "\u001b[1;31mJupyter server crashed. Unable to connect. \n",
      "\u001b[1;31mError code from Jupyter: 1\n",
      "\u001b[1;31mTraceback (most recent call last):\n",
      "\u001b[1;31m  File \"/opt/homebrew/bin/jupyter-notebook\", line 5, in <module>\n",
      "\u001b[1;31m\n",
      "\u001b[1;31m    from notebook.notebookapp import main\n",
      "\u001b[1;31m  File \"/opt/homebrew/lib/python3.8/site-packages/notebook/notebookapp.py\", line 57, in <module>\n",
      "\u001b[1;31m    raise ImportError(_(\"The Jupyter Notebook requires tornado >= 5.0, but you have %s\") % tornado.version)\n",
      "\u001b[1;31mImportError: The Jupyter Notebook requires tornado >= 5.0, but you have 4.5.3. \n",
      "\u001b[1;31m有关更多详细信息，请查看 Jupyter <a href='command:jupyter.viewOutput'>log</a>。"
     ]
    }
   ],
   "source": [
    "#Gradient\n",
    "def grad(x):\n",
    "    a=x[0]\n",
    "    b=x[1]\n",
    "    value_1=4*a**3+2*a**2+a-4*a*b\n",
    "    value_2=(-2)*a**2+(8/3)*b\n",
    "    gradient=[value_1,value_2]\n",
    "    return gradient"
   ]
  },
  {
   "cell_type": "code",
   "execution_count": null,
   "metadata": {},
   "outputs": [
    {
     "ename": "",
     "evalue": "",
     "output_type": "error",
     "traceback": [
      "\u001b[1;31m无法启动 Kernel。 \n",
      "\u001b[1;31mJupyter server crashed. Unable to connect. \n",
      "\u001b[1;31mError code from Jupyter: 1\n",
      "\u001b[1;31mTraceback (most recent call last):\n",
      "\u001b[1;31m  File \"/opt/homebrew/bin/jupyter-notebook\", line 5, in <module>\n",
      "\u001b[1;31m\n",
      "\u001b[1;31m    from notebook.notebookapp import main\n",
      "\u001b[1;31m  File \"/opt/homebrew/lib/python3.8/site-packages/notebook/notebookapp.py\", line 57, in <module>\n",
      "\u001b[1;31m    raise ImportError(_(\"The Jupyter Notebook requires tornado >= 5.0, but you have %s\") % tornado.version)\n",
      "\u001b[1;31mImportError: The Jupyter Notebook requires tornado >= 5.0, but you have 4.5.3. \n",
      "\u001b[1;31m有关更多详细信息，请查看 Jupyter <a href='command:jupyter.viewOutput'>log</a>。"
     ]
    }
   ],
   "source": [
    "#Gradient Descent Method + Armijo Condition \n",
    "def armijo(x):\n",
    "    x0=x\n",
    "    sigma=0.5\n",
    "    gamma=0.1\n",
    "    tol_GDM=10**(-5)\n",
    "    itr=0\n",
    "    point_set_x=[]\n",
    "    point_set_y=[]\n",
    "    while grad(x0)[0]**2+grad(x0)[1]**2>tol_GDM**2:\n",
    "        alhpa=1\n",
    "        k=[x0[0]-alhpa*(grad(x0)[0]),x0[1]-alhpa*(grad(x0)[1])]\n",
    "        while (obj(k)-obj(x0))>gamma*alhpa*(-(grad(x0)[0]**2+grad(x0)[1]**2)):\n",
    "            alhpa=alhpa*sigma\n",
    "            k=[x0[0]-alhpa*grad(x0)[0],x0[1]-alhpa*grad(x0)[1]]\n",
    "        itr=itr+1\n",
    "        point_set_x.append(x0[0])\n",
    "        point_set_y.append(x0[1])\n",
    "        x0=k\n",
    "    return x0,obj(x0),itr,point_set_x,point_set_y"
   ]
  },
  {
   "cell_type": "code",
   "execution_count": null,
   "metadata": {},
   "outputs": [
    {
     "ename": "",
     "evalue": "",
     "output_type": "error",
     "traceback": [
      "\u001b[1;31m无法启动 Kernel。 \n",
      "\u001b[1;31mJupyter server crashed. Unable to connect. \n",
      "\u001b[1;31mError code from Jupyter: 1\n",
      "\u001b[1;31mTraceback (most recent call last):\n",
      "\u001b[1;31m  File \"/opt/homebrew/bin/jupyter-notebook\", line 5, in <module>\n",
      "\u001b[1;31m\n",
      "\u001b[1;31m    from notebook.notebookapp import main\n",
      "\u001b[1;31m  File \"/opt/homebrew/lib/python3.8/site-packages/notebook/notebookapp.py\", line 57, in <module>\n",
      "\u001b[1;31m    raise ImportError(_(\"The Jupyter Notebook requires tornado >= 5.0, but you have %s\") % tornado.version)\n",
      "\u001b[1;31mImportError: The Jupyter Notebook requires tornado >= 5.0, but you have 4.5.3. \n",
      "\u001b[1;31m有关更多详细信息，请查看 Jupyter <a href='command:jupyter.viewOutput'>log</a>。"
     ]
    }
   ],
   "source": [
    "#Gradient Descent Method + Exact Line Search Method \n",
    "def exact(x):\n",
    "    x0=x\n",
    "    tol_GDM=10**(-5)\n",
    "    tol_EXS=10**(-6)\n",
    "    itr=0   \n",
    "    phi=0.382\n",
    "    maxit=100\n",
    "    point_set_x=[]\n",
    "    point_set_y=[]\n",
    "    while grad(x0)[0]**2+grad(x0)[1]**2>tol_GDM**2:\n",
    "        al=0\n",
    "        ar=2\n",
    "        itr_GSM=0\n",
    "        while (ar-al)>tol_EXS and itr_GSM<=maxit:\n",
    "            ar_t=phi*al+(1-phi)*ar\n",
    "            al_t=phi*ar+(1-phi)*al\n",
    "            obj_al_t=[x0[0]-al_t*grad(x0)[0],x0[1]-al_t*grad(x0)[1]]\n",
    "            obj_ar_t=[x0[0]-ar_t*grad(x0)[0],x0[1]-ar_t*grad(x0)[1]]\n",
    "            if obj(obj_al_t)<obj(obj_ar_t):\n",
    "                ar=ar_t   \n",
    "            else:\n",
    "                al=al_t\n",
    "            itr_GSM=itr_GSM+1\n",
    "        alpha=(al+ar)/2\n",
    "        itr=itr+1\n",
    "        point_set_x.append(x0[0])\n",
    "        point_set_y.append(x0[1])\n",
    "        x0=[x0[0]-alpha*grad(x0)[0],x0[1]-alpha*grad(x0)[1]]\n",
    "    return x0,obj(x0),itr,point_set_x,point_set_y"
   ]
  },
  {
   "cell_type": "markdown",
   "metadata": {},
   "source": [
    "Quetion a"
   ]
  },
  {
   "cell_type": "code",
   "execution_count": null,
   "metadata": {},
   "outputs": [
    {
     "ename": "",
     "evalue": "",
     "output_type": "error",
     "traceback": [
      "\u001b[1;31m无法启动 Kernel。 \n",
      "\u001b[1;31mJupyter server crashed. Unable to connect. \n",
      "\u001b[1;31mError code from Jupyter: 1\n",
      "\u001b[1;31mTraceback (most recent call last):\n",
      "\u001b[1;31m  File \"/opt/homebrew/bin/jupyter-notebook\", line 5, in <module>\n",
      "\u001b[1;31m\n",
      "\u001b[1;31m    from notebook.notebookapp import main\n",
      "\u001b[1;31m  File \"/opt/homebrew/lib/python3.8/site-packages/notebook/notebookapp.py\", line 57, in <module>\n",
      "\u001b[1;31m    raise ImportError(_(\"The Jupyter Notebook requires tornado >= 5.0, but you have %s\") % tornado.version)\n",
      "\u001b[1;31mImportError: The Jupyter Notebook requires tornado >= 5.0, but you have 4.5.3. \n",
      "\u001b[1;31m有关更多详细信息，请查看 Jupyter <a href='command:jupyter.viewOutput'>log</a>。"
     ]
    }
   ],
   "source": [
    "print(armijo([3, 3])[0],armijo([3, 3])[2])\n",
    "print(exact([3, 3])[0],exact([3, 3])[2])"
   ]
  },
  {
   "cell_type": "markdown",
   "metadata": {},
   "source": [
    "Question b"
   ]
  },
  {
   "cell_type": "code",
   "execution_count": null,
   "metadata": {},
   "outputs": [
    {
     "ename": "",
     "evalue": "",
     "output_type": "error",
     "traceback": [
      "\u001b[1;31m无法启动 Kernel。 \n",
      "\u001b[1;31mJupyter server crashed. Unable to connect. \n",
      "\u001b[1;31mError code from Jupyter: 1\n",
      "\u001b[1;31mTraceback (most recent call last):\n",
      "\u001b[1;31m  File \"/opt/homebrew/bin/jupyter-notebook\", line 5, in <module>\n",
      "\u001b[1;31m\n",
      "\u001b[1;31m    from notebook.notebookapp import main\n",
      "\u001b[1;31m  File \"/opt/homebrew/lib/python3.8/site-packages/notebook/notebookapp.py\", line 57, in <module>\n",
      "\u001b[1;31m    raise ImportError(_(\"The Jupyter Notebook requires tornado >= 5.0, but you have %s\") % tornado.version)\n",
      "\u001b[1;31mImportError: The Jupyter Notebook requires tornado >= 5.0, but you have 4.5.3. \n",
      "\u001b[1;31m有关更多详细信息，请查看 Jupyter <a href='command:jupyter.viewOutput'>log</a>。"
     ]
    }
   ],
   "source": [
    "#Armijo Condition\n",
    "plt.figure(dpi=300,figsize=(8,5))\n",
    "plt.title(\"Armijo Condition\") \n",
    "x1=np.linspace(-3,3,100)\n",
    "x2=np.linspace(-3,5,100)\n",
    "X,Y=np.meshgrid(x1,x2)\n",
    "plt.contour(X,Y,obj([X,Y]),200)\n",
    "a_1=armijo([-3,-3])\n",
    "a_2=armijo([3,3])\n",
    "a_3=armijo([-3,3])\n",
    "a_4=armijo([3,-3])\n",
    "plt.plot(a_1[3],a_1[4],label='Armijo Condition_(-3,-3)',color='tab:blue')\n",
    "plt.plot(a_2[3],a_2[4],label='Armijo Condition_(3,3)',color='tab:orange')\n",
    "plt.plot(a_3[3],a_3[4],label='Armijo Condition_(-3,3)',color='tab:green')\n",
    "plt.plot(a_4[3],a_4[4],label='Armijo Condition_(3,-3)',color='tab:red')\n",
    "plt.legend()\n",
    "plt.show()\n",
    "\n",
    "#Exact Line Search\n",
    "plt.figure(dpi=300,figsize=(8,5))\n",
    "plt.title(\"Exact Line Search\") \n",
    "x1=np.linspace(-3,3,100)\n",
    "x2=np.linspace(-3,5,100)\n",
    "X,Y=np.meshgrid(x1,x2)\n",
    "plt.contour(X,Y,obj([X,Y]),200)\n",
    "e_1=exact([-3,-3])\n",
    "e_2=exact([3,3])\n",
    "e_3=exact([-3,3])\n",
    "e_4=exact([3,-3])\n",
    "plt.plot(e_1[3],e_1[4],label='Exact Line Search_(-3,-3)',color='tab:purple')\n",
    "plt.plot(e_2[3],e_2[4],label='Exact Line Search_(3,3)',color='tab:brown')\n",
    "plt.plot(e_3[3],e_3[4],label='Exact Line Search_(-3,3)',color='tab:pink')\n",
    "plt.plot(e_4[3],e_4[4],label='Exact Line Search_(3,-3)',color='tab:cyan')\n",
    "plt.legend()\n",
    "plt.show()"
   ]
  }
 ],
 "metadata": {
  "kernelspec": {
   "display_name": "Python 3",
   "language": "python",
   "name": "python3"
  },
  "language_info": {
   "codemirror_mode": {
    "name": "ipython",
    "version": 3
   },
   "file_extension": ".py",
   "mimetype": "text/x-python",
   "name": "python",
   "nbconvert_exporter": "python",
   "pygments_lexer": "ipython3",
   "version": "3.8.16"
  },
  "orig_nbformat": 4,
  "vscode": {
   "interpreter": {
    "hash": "5b6e8fba36db23bc4d54e0302cd75fdd75c29d9edcbab68d6cfc74e7e4b30305"
   }
  }
 },
 "nbformat": 4,
 "nbformat_minor": 2
}
