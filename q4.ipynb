{
 "cells": [
  {
   "cell_type": "code",
   "execution_count": null,
   "metadata": {},
   "outputs": [
    {
     "ename": "",
     "evalue": "",
     "output_type": "error",
     "traceback": [
      "\u001b[1;31m无法启动 Kernel。 \n",
      "\u001b[1;31mJupyter server crashed. Unable to connect. \n",
      "\u001b[1;31mError code from Jupyter: 1\n",
      "\u001b[1;31mTraceback (most recent call last):\n",
      "\u001b[1;31m  File \"/opt/homebrew/bin/jupyter-notebook\", line 5, in <module>\n",
      "\u001b[1;31m\n",
      "\u001b[1;31m    from notebook.notebookapp import main\n",
      "\u001b[1;31m  File \"/opt/homebrew/lib/python3.8/site-packages/notebook/notebookapp.py\", line 57, in <module>\n",
      "\u001b[1;31m    raise ImportError(_(\"The Jupyter Notebook requires tornado >= 5.0, but you have %s\") % tornado.version)\n",
      "\u001b[1;31mImportError: The Jupyter Notebook requires tornado >= 5.0, but you have 4.5.3. \n",
      "\u001b[1;31m有关更多详细信息，请查看 Jupyter <a href='command:jupyter.viewOutput'>log</a>。"
     ]
    }
   ],
   "source": [
    "#Packages\n",
    "import numpy as np\n",
    "import numpy.linalg as lg\n",
    "import matplotlib.pyplot as plt"
   ]
  },
  {
   "cell_type": "code",
   "execution_count": null,
   "metadata": {},
   "outputs": [
    {
     "ename": "",
     "evalue": "",
     "output_type": "error",
     "traceback": [
      "\u001b[1;31m无法启动 Kernel。 \n",
      "\u001b[1;31mJupyter server crashed. Unable to connect. \n",
      "\u001b[1;31mError code from Jupyter: 1\n",
      "\u001b[1;31mTraceback (most recent call last):\n",
      "\u001b[1;31m  File \"/opt/homebrew/bin/jupyter-notebook\", line 5, in <module>\n",
      "\u001b[1;31m\n",
      "\u001b[1;31m    from notebook.notebookapp import main\n",
      "\u001b[1;31m  File \"/opt/homebrew/lib/python3.8/site-packages/notebook/notebookapp.py\", line 57, in <module>\n",
      "\u001b[1;31m    raise ImportError(_(\"The Jupyter Notebook requires tornado >= 5.0, but you have %s\") % tornado.version)\n",
      "\u001b[1;31mImportError: The Jupyter Notebook requires tornado >= 5.0, but you have 4.5.3. \n",
      "\u001b[1;31m有关更多详细信息，请查看 Jupyter <a href='command:jupyter.viewOutput'>log</a>。"
     ]
    }
   ],
   "source": [
    "#Objective Function\n",
    "def obj(x,a):\n",
    "    if a==1:\n",
    "        objective_function_value=100*(x[0]**2-x[1])**2+(1-x[0])**2\n",
    "        return objective_function_value\n",
    "    else:\n",
    "        return obj_1(x)\n",
    "def obj_1(x):\n",
    "    a=x[0]\n",
    "    b=x[1]\n",
    "    objective_function_value_1=a**4+2/3*a**3+0.5*a**2-2*a**2*b+4/3*b**2\n",
    "    return objective_function_value_1"
   ]
  },
  {
   "cell_type": "code",
   "execution_count": null,
   "metadata": {},
   "outputs": [
    {
     "ename": "",
     "evalue": "",
     "output_type": "error",
     "traceback": [
      "\u001b[1;31m无法启动 Kernel。 \n",
      "\u001b[1;31mJupyter server crashed. Unable to connect. \n",
      "\u001b[1;31mError code from Jupyter: 1\n",
      "\u001b[1;31mTraceback (most recent call last):\n",
      "\u001b[1;31m  File \"/opt/homebrew/bin/jupyter-notebook\", line 5, in <module>\n",
      "\u001b[1;31m\n",
      "\u001b[1;31m    from notebook.notebookapp import main\n",
      "\u001b[1;31m  File \"/opt/homebrew/lib/python3.8/site-packages/notebook/notebookapp.py\", line 57, in <module>\n",
      "\u001b[1;31m    raise ImportError(_(\"The Jupyter Notebook requires tornado >= 5.0, but you have %s\") % tornado.version)\n",
      "\u001b[1;31mImportError: The Jupyter Notebook requires tornado >= 5.0, but you have 4.5.3. \n",
      "\u001b[1;31m有关更多详细信息，请查看 Jupyter <a href='command:jupyter.viewOutput'>log</a>。"
     ]
    }
   ],
   "source": [
    "#Gradient\n",
    "def grad(x,a):\n",
    "    if a==1:\n",
    "        f_1=-400*x[0]*(x[1]-x[0]**2)+2*(x[0]-1)\n",
    "        f_2=200*(x[1]-x[0]**2)\n",
    "        return [f_1,f_2]\n",
    "    if a==2:\n",
    "        return grad_1(x)\n",
    "def grad_1(x):\n",
    "    a=x[0]\n",
    "    b=x[1]\n",
    "    value_1=4*a**3+2*a**2+a-4*a*b\n",
    "    value_2=-2*a**2+8/3*b\n",
    "    value=[value_1,value_2]\n",
    "    return value    "
   ]
  },
  {
   "cell_type": "code",
   "execution_count": null,
   "metadata": {},
   "outputs": [
    {
     "ename": "",
     "evalue": "",
     "output_type": "error",
     "traceback": [
      "\u001b[1;31m无法启动 Kernel。 \n",
      "\u001b[1;31mJupyter server crashed. Unable to connect. \n",
      "\u001b[1;31mError code from Jupyter: 1\n",
      "\u001b[1;31mTraceback (most recent call last):\n",
      "\u001b[1;31m  File \"/opt/homebrew/bin/jupyter-notebook\", line 5, in <module>\n",
      "\u001b[1;31m\n",
      "\u001b[1;31m    from notebook.notebookapp import main\n",
      "\u001b[1;31m  File \"/opt/homebrew/lib/python3.8/site-packages/notebook/notebookapp.py\", line 57, in <module>\n",
      "\u001b[1;31m    raise ImportError(_(\"The Jupyter Notebook requires tornado >= 5.0, but you have %s\") % tornado.version)\n",
      "\u001b[1;31mImportError: The Jupyter Notebook requires tornado >= 5.0, but you have 4.5.3. \n",
      "\u001b[1;31m有关更多详细信息，请查看 Jupyter <a href='command:jupyter.viewOutput'>log</a>。"
     ]
    }
   ],
   "source": [
    "#Hessian\n",
    "def hess(x,a):\n",
    "    if a==1:\n",
    "        f_11=-400*(x[1]-x[0]**2)+800*x[0]**2+2\n",
    "        f_12=-400*x[0]\n",
    "        f_21=-400*x[0]\n",
    "        f_22=200\n",
    "        return np.array([[f_11,f_12],[f_21,f_22]])\n",
    "    if a==2:\n",
    "        return hess_1(x)\n",
    "def hess_1(x):\n",
    "    a=x[0]\n",
    "    b=x[1]\n",
    "    f_11=12*a**2+4*a+1-4*b\n",
    "    f_12=-4*b\n",
    "    f_21=-4*b\n",
    "    f_22=8/3\n",
    "    return np.array([[f_11,f_12],[f_21,f_22]])    "
   ]
  },
  {
   "cell_type": "code",
   "execution_count": null,
   "metadata": {},
   "outputs": [
    {
     "ename": "",
     "evalue": "",
     "output_type": "error",
     "traceback": [
      "\u001b[1;31m无法启动 Kernel。 \n",
      "\u001b[1;31mJupyter server crashed. Unable to connect. \n",
      "\u001b[1;31mError code from Jupyter: 1\n",
      "\u001b[1;31mTraceback (most recent call last):\n",
      "\u001b[1;31m  File \"/opt/homebrew/bin/jupyter-notebook\", line 5, in <module>\n",
      "\u001b[1;31m\n",
      "\u001b[1;31m    from notebook.notebookapp import main\n",
      "\u001b[1;31m  File \"/opt/homebrew/lib/python3.8/site-packages/notebook/notebookapp.py\", line 57, in <module>\n",
      "\u001b[1;31m    raise ImportError(_(\"The Jupyter Notebook requires tornado >= 5.0, but you have %s\") % tornado.version)\n",
      "\u001b[1;31mImportError: The Jupyter Notebook requires tornado >= 5.0, but you have 4.5.3. \n",
      "\u001b[1;31m有关更多详细信息，请查看 Jupyter <a href='command:jupyter.viewOutput'>log</a>。"
     ]
    }
   ],
   "source": [
    "#Globalized Newton’s Method\n",
    "def newton_glob(x):\n",
    "    x0=x\n",
    "    sigma=0.5\n",
    "    gamma_0=10**(-4)\n",
    "    gamma_1=10**(-6)\n",
    "    gamma_2=0.1\n",
    "    tol=10**(-7)\n",
    "    itr=1\n",
    "    x_former=None\n",
    "    point_set_x=[]\n",
    "    point_set_y=[]\n",
    "    alpha_set=[]\n",
    "    while np.sqrt(grad(x0,1)[0]**2+grad(x0,1)[1]**2)>tol and x_former!=x0:\n",
    "        sk=lg.solve(hess(x0,1),[-grad(x0,1)[0],-grad(x0,1)[1]])\n",
    "        if -(grad(x0,1)[0]*sk[0]+grad(x0,1)[1]*sk[1])>=gamma_1*(sk[0]**2+sk[1]**2)*np.min([1,(sk[0]**2+sk[1]**2)**(gamma_2/2)]):\n",
    "            dk=sk\n",
    "        else:\n",
    "            dk=[-grad(x0,1)[0],-grad(x0,1)[1]]\n",
    "        alpha=1\n",
    "        k=[x0[0]+alpha*(dk[0]),x0[1]+alpha*(dk[1])]\n",
    "        while obj(k,1)-obj(x0,1)>alpha*gamma_0*((dk[0])**2+(dk[1])**2) :\n",
    "            alpha=sigma*alpha\n",
    "            k=[x0[0]+alpha*(dk[0]),x0[1]+alpha*(dk[1])]\n",
    "        itr=itr+1\n",
    "        point_set_x.append(x0[0])\n",
    "        point_set_y.append(x0[1])\n",
    "        alpha_set.append(alpha)\n",
    "        x_former=x0\n",
    "        x0=k\n",
    "    return x0,obj(x0,1),itr,point_set_x,point_set_y,alpha_set"
   ]
  },
  {
   "cell_type": "markdown",
   "metadata": {},
   "source": [
    "Question a-1: Comparing the performance of the two approaches"
   ]
  },
  {
   "cell_type": "code",
   "execution_count": null,
   "metadata": {},
   "outputs": [
    {
     "ename": "",
     "evalue": "",
     "output_type": "error",
     "traceback": [
      "\u001b[1;31m无法启动 Kernel。 \n",
      "\u001b[1;31mJupyter server crashed. Unable to connect. \n",
      "\u001b[1;31mError code from Jupyter: 1\n",
      "\u001b[1;31mTraceback (most recent call last):\n",
      "\u001b[1;31m  File \"/opt/homebrew/bin/jupyter-notebook\", line 5, in <module>\n",
      "\u001b[1;31m\n",
      "\u001b[1;31m    from notebook.notebookapp import main\n",
      "\u001b[1;31m  File \"/opt/homebrew/lib/python3.8/site-packages/notebook/notebookapp.py\", line 57, in <module>\n",
      "\u001b[1;31m    raise ImportError(_(\"The Jupyter Notebook requires tornado >= 5.0, but you have %s\") % tornado.version)\n",
      "\u001b[1;31mImportError: The Jupyter Notebook requires tornado >= 5.0, but you have 4.5.3. \n",
      "\u001b[1;31m有关更多详细信息，请查看 Jupyter <a href='command:jupyter.viewOutput'>log</a>。"
     ]
    }
   ],
   "source": [
    "#The Globalized Newton Method\n",
    "plt.figure(dpi=300,figsize=(8,5))\n",
    "plt.title(\"newton_glob_(-1,-0.5)\") \n",
    "x1=np.linspace(-3,3,100)\n",
    "x2=np.linspace(-3,3,100)\n",
    "X,Y=np.meshgrid(x1,x2)\n",
    "plt.contour(X,Y,obj([X,Y],1),200)\n",
    "a_1=newton_glob([-1,-0.5])\n",
    "plt.plot(a_1[3],a_1[4],label='newton_glob_(-1,-0.5)',color='tab:blue')\n",
    "plt.show()\n",
    "print(a_1[0],a_1[2])\n",
    "\n",
    "\n",
    "#The Gradient Descent Method\n",
    "def armijo(x):\n",
    "    x0=x\n",
    "    sigma=0.5\n",
    "    gamma=10**(-4)\n",
    "    tol_GDM=10**(-7)\n",
    "    itr=0\n",
    "    point_set_x=[]\n",
    "    point_set_y=[]\n",
    "    while grad(x0,1)[0]**2+grad(x0,1)[1]**2>tol_GDM**2:\n",
    "        alhpa=1\n",
    "        k=[x0[0]-alhpa*(grad(x0,1)[0]),x0[1]-alhpa*(grad(x0,1)[1])]\n",
    "        while (obj(k,1)-obj(x0,1))>gamma*alhpa*(-(grad(x0,1)[0]**2+grad(x0,1)[1]**2)):\n",
    "            alhpa=alhpa*sigma\n",
    "            k=[x0[0]-alhpa*grad(x0,1)[0],x0[1]-alhpa*grad(x0,1)[1]]\n",
    "        itr=itr+1\n",
    "        point_set_x.append(x0[0])\n",
    "        point_set_y.append(x0[1])\n",
    "        x0=k\n",
    "    return x0,obj(x0,1),itr,point_set_x,point_set_y\n",
    "\n",
    "plt.figure(dpi=300,figsize=(8,5))\n",
    "plt.title(\"gradient descent method_(-1,-0.5)\") \n",
    "x1=np.linspace(-3,3,100)\n",
    "x2=np.linspace(-3,3,100)\n",
    "X,Y=np.meshgrid(x1,x2)\n",
    "plt.contour(X,Y,obj([X,Y],1),200)\n",
    "a_2=armijo([-1,-0.5])\n",
    "plt.plot(a_2[3],a_2[4],label='gradient descent method_(-1,-0.5)',color='tab:green')\n",
    "plt.show()\n",
    "print(a_2[0],a_2[2])"
   ]
  },
  {
   "cell_type": "markdown",
   "metadata": {},
   "source": [
    "Question a-2: Judgment about Stepsize (Whether always equal to 1)"
   ]
  },
  {
   "cell_type": "code",
   "execution_count": null,
   "metadata": {},
   "outputs": [
    {
     "ename": "",
     "evalue": "",
     "output_type": "error",
     "traceback": [
      "\u001b[1;31m无法启动 Kernel。 \n",
      "\u001b[1;31mJupyter server crashed. Unable to connect. \n",
      "\u001b[1;31mError code from Jupyter: 1\n",
      "\u001b[1;31mTraceback (most recent call last):\n",
      "\u001b[1;31m  File \"/opt/homebrew/bin/jupyter-notebook\", line 5, in <module>\n",
      "\u001b[1;31m\n",
      "\u001b[1;31m    from notebook.notebookapp import main\n",
      "\u001b[1;31m  File \"/opt/homebrew/lib/python3.8/site-packages/notebook/notebookapp.py\", line 57, in <module>\n",
      "\u001b[1;31m    raise ImportError(_(\"The Jupyter Notebook requires tornado >= 5.0, but you have %s\") % tornado.version)\n",
      "\u001b[1;31mImportError: The Jupyter Notebook requires tornado >= 5.0, but you have 4.5.3. \n",
      "\u001b[1;31m有关更多详细信息，请查看 Jupyter <a href='command:jupyter.viewOutput'>log</a>。"
     ]
    }
   ],
   "source": [
    "a_1=newton_glob([-1,-0.5])\n",
    "for i in a_1[5]:\n",
    "    if i!=1:\n",
    "        print(\"The Globalized Newton Method does not always use full step sizes ak = 1\")\n",
    "        break"
   ]
  },
  {
   "cell_type": "markdown",
   "metadata": {},
   "source": [
    "Question b"
   ]
  },
  {
   "cell_type": "code",
   "execution_count": null,
   "metadata": {},
   "outputs": [
    {
     "ename": "",
     "evalue": "",
     "output_type": "error",
     "traceback": [
      "\u001b[1;31m无法启动 Kernel。 \n",
      "\u001b[1;31mJupyter server crashed. Unable to connect. \n",
      "\u001b[1;31mError code from Jupyter: 1\n",
      "\u001b[1;31mTraceback (most recent call last):\n",
      "\u001b[1;31m  File \"/opt/homebrew/bin/jupyter-notebook\", line 5, in <module>\n",
      "\u001b[1;31m\n",
      "\u001b[1;31m    from notebook.notebookapp import main\n",
      "\u001b[1;31m  File \"/opt/homebrew/lib/python3.8/site-packages/notebook/notebookapp.py\", line 57, in <module>\n",
      "\u001b[1;31m    raise ImportError(_(\"The Jupyter Notebook requires tornado >= 5.0, but you have %s\") % tornado.version)\n",
      "\u001b[1;31mImportError: The Jupyter Notebook requires tornado >= 5.0, but you have 4.5.3. \n",
      "\u001b[1;31m有关更多详细信息，请查看 Jupyter <a href='command:jupyter.viewOutput'>log</a>。"
     ]
    }
   ],
   "source": [
    "def newton_glob_1(x):\n",
    "    x0=x\n",
    "    sigma=0.5\n",
    "    gamma_0=10**(-4)\n",
    "    gamma_1=10**(-6)\n",
    "    gamma_2=0.1\n",
    "    tol=10**(-5)\n",
    "    itr=1\n",
    "    x_former=None\n",
    "    point_set_x=[]\n",
    "    point_set_y=[]\n",
    "    alpha_set=[]\n",
    "    while np.sqrt(grad(x0,2)[0]**2+grad(x0,2)[1]**2)>tol and x_former!=x0:\n",
    "        sk=lg.solve(hess(x0,2),[-grad(x0,2)[0],-grad(x0,2)[1]])\n",
    "        if -(grad(x0,2)[0]*sk[0]+grad(x0,2)[1]*sk[1])>=gamma_1*(sk[0]**2+sk[1]**2)*np.min([1,(sk[0]**2+sk[1]**2)**(gamma_2/2)]):\n",
    "            dk=sk\n",
    "        else:\n",
    "            dk=[-grad(x0,2)[0],-grad(x0,2)[1]]\n",
    "        alpha=1\n",
    "        k=[x0[0]+alpha*(dk[0]),x0[1]+alpha*(dk[1])]\n",
    "        while obj(k,2)-obj(x0,2)>alpha*gamma_0*((dk[0])**2+(dk[1])**2) :\n",
    "            alpha=sigma*alpha\n",
    "            k=[x0[0]+alpha*(dk[0]),x0[1]+alpha*(dk[1])]\n",
    "        itr=itr+1\n",
    "        point_set_x.append(x0[0])\n",
    "        point_set_y.append(x0[1])\n",
    "        alpha_set.append(alpha)\n",
    "        x_former=x0\n",
    "        x0=k\n",
    "    return x0,obj(x0,2),itr,point_set_x,point_set_y,alpha_set"
   ]
  },
  {
   "cell_type": "code",
   "execution_count": null,
   "metadata": {},
   "outputs": [
    {
     "ename": "",
     "evalue": "",
     "output_type": "error",
     "traceback": [
      "\u001b[1;31m无法启动 Kernel。 \n",
      "\u001b[1;31mJupyter server crashed. Unable to connect. \n",
      "\u001b[1;31mError code from Jupyter: 1\n",
      "\u001b[1;31mTraceback (most recent call last):\n",
      "\u001b[1;31m  File \"/opt/homebrew/bin/jupyter-notebook\", line 5, in <module>\n",
      "\u001b[1;31m\n",
      "\u001b[1;31m    from notebook.notebookapp import main\n",
      "\u001b[1;31m  File \"/opt/homebrew/lib/python3.8/site-packages/notebook/notebookapp.py\", line 57, in <module>\n",
      "\u001b[1;31m    raise ImportError(_(\"The Jupyter Notebook requires tornado >= 5.0, but you have %s\") % tornado.version)\n",
      "\u001b[1;31mImportError: The Jupyter Notebook requires tornado >= 5.0, but you have 4.5.3. \n",
      "\u001b[1;31m有关更多详细信息，请查看 Jupyter <a href='command:jupyter.viewOutput'>log</a>。"
     ]
    }
   ],
   "source": [
    "#Globalized Newtons Method\n",
    "plt.figure(dpi=300,figsize=(8,5))\n",
    "plt.title(\"newton_glob\") \n",
    "x1=np.linspace(-5,5,100)\n",
    "x2=np.linspace(-5,10,100)\n",
    "X,Y=np.meshgrid(x1,x2)\n",
    "plt.contour(X,Y,obj([X,Y],2),200)\n",
    "GNM_1=newton_glob_1([-3,-3])\n",
    "GNM_2=newton_glob_1([3,-3])\n",
    "GNM_3=newton_glob_1([-3,3])\n",
    "GNM_4=newton_glob_1([3,3])\n",
    "plt.plot(GNM_1[3],GNM_1[4],label='Globalized Newtons Method_(-3,-3)',color='tab:blue')\n",
    "plt.plot(GNM_2[3],GNM_2[4],label='Globalized Newtons Method_(3,-3)',color='tab:orange')\n",
    "plt.plot(GNM_3[3],GNM_3[4],label='Globalized Newtons Method_(-3,-3)',color='tab:green')\n",
    "plt.plot(GNM_4[3],GNM_4[4],label='Globalized Newtons Method_(-3,-3)',color='tab:red')\n",
    "plt.legend()\n",
    "plt.show()\n",
    "print(GNM_1[0],GNM_1[2])\n",
    "print(GNM_2[0],GNM_2[2])\n",
    "print(GNM_3[0],GNM_3[2])\n",
    "print(GNM_4[0],GNM_4[2])"
   ]
  }
 ],
 "metadata": {
  "kernelspec": {
   "display_name": "Python 3",
   "language": "python",
   "name": "python3"
  },
  "language_info": {
   "codemirror_mode": {
    "name": "ipython",
    "version": 3
   },
   "file_extension": ".py",
   "mimetype": "text/x-python",
   "name": "python",
   "nbconvert_exporter": "python",
   "pygments_lexer": "ipython3",
   "version": "3.8.16"
  },
  "orig_nbformat": 4,
  "vscode": {
   "interpreter": {
    "hash": "5b6e8fba36db23bc4d54e0302cd75fdd75c29d9edcbab68d6cfc74e7e4b30305"
   }
  }
 },
 "nbformat": 4,
 "nbformat_minor": 2
}
